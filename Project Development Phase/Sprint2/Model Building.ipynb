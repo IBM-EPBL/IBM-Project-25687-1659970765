{
  "cells": [
    {
      "cell_type": "markdown",
      "id": "d91df71b",
      "metadata": {
        "id": "d91df71b"
      },
      "source": [
        "# MODEL BULIDING"
      ]
    },
    {
      "cell_type": "markdown",
      "id": "b181e4f0",
      "metadata": {
        "id": "b181e4f0"
      },
      "source": [
        "# Training And Testing The Model"
      ]
    },
    {
      "cell_type": "code",
      "execution_count": 55,
      "id": "46f040d4",
      "metadata": {
        "id": "46f040d4"
      },
      "outputs": [],
      "source": [
        "XGBoost=xgboost.XGBRFClassifier()\n",
        "Rand_forest=sklearn.ensemble.RandomForestClassifier()\n",
        "svm=sklearn.svm.SVC()\n",
        "Dtree=sklearn.tree.DecisionTreeClassifier()\n",
        "GBM=sklearn.ensemble.GradientBoostingClassifier()\n",
        "log=sklearn.linear_model.LogisticRegression()"
      ]
    },
    {
      "cell_type": "code",
      "execution_count": 56,
      "id": "d8344b9a",
      "metadata": {
        "colab": {
          "base_uri": "https://localhost:8080/"
        },
        "id": "d8344b9a",
        "outputId": "b4365a1f-7ee3-466a-c7e0-8163b9fc7cdc"
      },
      "outputs": [
        {
          "name": "stderr",
          "output_type": "stream",
          "text": [
            "/usr/local/lib/python3.7/dist-packages/sklearn/preprocessing/_label.py:98: DataConversionWarning: A column-vector y was passed when a 1d array was expected. Please change the shape of y to (n_samples, ), for example using ravel().\n",
            "  y = column_or_1d(y, warn=True)\n",
            "/usr/local/lib/python3.7/dist-packages/sklearn/preprocessing/_label.py:133: DataConversionWarning: A column-vector y was passed when a 1d array was expected. Please change the shape of y to (n_samples, ), for example using ravel().\n",
            "  y = column_or_1d(y, warn=True)\n",
            "/usr/local/lib/python3.7/dist-packages/ipykernel_launcher.py:3: DataConversionWarning: A column-vector y was passed when a 1d array was expected. Please change the shape of y to (n_samples,), for example using ravel().\n",
            "  This is separate from the ipykernel package so we can avoid doing imports until\n",
            "/usr/local/lib/python3.7/dist-packages/sklearn/utils/validation.py:993: DataConversionWarning: A column-vector y was passed when a 1d array was expected. Please change the shape of y to (n_samples, ), for example using ravel().\n",
            "  y = column_or_1d(y, warn=True)\n",
            "/usr/local/lib/python3.7/dist-packages/sklearn/ensemble/_gb.py:494: DataConversionWarning: A column-vector y was passed when a 1d array was expected. Please change the shape of y to (n_samples, ), for example using ravel().\n",
            "  y = column_or_1d(y, warn=True)\n",
            "/usr/local/lib/python3.7/dist-packages/sklearn/utils/validation.py:993: DataConversionWarning: A column-vector y was passed when a 1d array was expected. Please change the shape of y to (n_samples, ), for example using ravel().\n",
            "  y = column_or_1d(y, warn=True)\n"
          ]
        }
      ],
      "source": [
        "# Training the every model with Train data\n",
        "model1=XGBoost.fit(x_train,y_train)\n",
        "model2=Rand_forest.fit(x_train,y_train)\n",
        "model3=svm.fit(x_train,y_train)\n",
        "model4=Dtree.fit(x_train,y_train)\n",
        "model5=GBM.fit(x_train,y_train)\n",
        "model6=log.fit(x_train,y_train)"
      ]
    },
    {
      "cell_type": "code",
      "execution_count": 57,
      "id": "640699fe",
      "metadata": {
        "id": "640699fe"
      },
      "outputs": [],
      "source": [
        "# predicting the test data with every algorithm\n",
        "y_pred_xg=model1.predict(x_test)\n",
        "y_pred_rf=model2.predict(x_test)\n",
        "y_pred_svm=model3.predict(x_test)\n",
        "y_pred_dt=model4.predict(x_test)\n",
        "y_pred_gbm=model5.predict(x_test)\n",
        "y_pred_log=model6.predict(x_test)"
      ]
    },
    {
      "cell_type": "code",
      "execution_count": 58,
      "id": "S5gm9HJ8w8Hp",
      "metadata": {
        "colab": {
          "base_uri": "https://localhost:8080/"
        },
        "id": "S5gm9HJ8w8Hp",
        "outputId": "aa0942b4-7547-4382-8365-3a5b760e53ec"
      },
      "outputs": [
        {
          "name": "stdout",
          "output_type": "stream",
          "text": [
            "0.8326242132283133\n",
            "0.8527726010056612\n",
            "0.8494321178663103\n",
            "0.7724955167199972\n",
            "0.8474278279826998\n",
            "0.8419424030380815\n"
          ]
        }
      ],
      "source": [
        "#Checking  all the performances of the models\n",
        "from sklearn.metrics import accuracy_score\n",
        "print(accuracy_score(y_test,y_pred_xg))\n",
        "print(accuracy_score(y_test,y_pred_rf))\n",
        "print(accuracy_score(y_test,y_pred_svm))\n",
        "print(accuracy_score(y_test,y_pred_dt))\n",
        "print(accuracy_score(y_test,y_pred_gbm))\n",
        "print(accuracy_score(y_test,y_pred_log))"
      ]
    },
    {
      "cell_type": "code",
      "execution_count": 59,
      "id": "iLCSv4mT2lVY",
      "metadata": {
        "colab": {
          "base_uri": "https://localhost:8080/"
        },
        "id": "iLCSv4mT2lVY",
        "outputId": "68652822-7820-460b-a444-16005a9cddec"
      },
      "outputs": [
        {
          "name": "stdout",
          "output_type": "stream",
          "text": [
            "accuracy_score of final model: 0.8527726010056612\n"
          ]
        }
      ],
      "source": [
        "#After checking all the models Random Forest Regression accuracy is very high\n",
        "print(\"accuracy_score of final model:\",accuracy_score(y_test,y_pred_rf))"
      ]
    },
    {
      "cell_type": "code",
      "execution_count": 60,
      "id": "Hr1aJxts32sO",
      "metadata": {
        "colab": {
          "base_uri": "https://localhost:8080/"
        },
        "id": "Hr1aJxts32sO",
        "outputId": "75a9e56d-1005-4a00-b519-94c6a5203e29"
      },
      "outputs": [
        {
          "name": "stdout",
          "output_type": "stream",
          "text": [
            "              precision    recall  f1-score   support\n",
            "\n",
            "           0       0.95      0.87      0.91     24230\n",
            "           1       0.50      0.76      0.60      4209\n",
            "\n",
            "    accuracy                           0.85     28439\n",
            "   macro avg       0.73      0.81      0.76     28439\n",
            "weighted avg       0.89      0.85      0.86     28439\n",
            "\n"
          ]
        }
      ],
      "source": [
        "#classication report for Random Forest Regression\n",
        "from sklearn.metrics import classification_report,confusion_matrix\n",
        "print(classification_report(y_pred_rf,y_test))"
      ]
    },
    {
      "cell_type": "code",
      "execution_count": 61,
      "id": "ud481bif4rR5",
      "metadata": {
        "colab": {
          "base_uri": "https://localhost:8080/"
        },
        "id": "ud481bif4rR5",
        "outputId": "c32ba278-a3db-4b88-d54a-bee8d96ec922"
      },
      "outputs": [
        {
          "data": {
            "text/plain": [
              "array([[21055,  1012],\n",
              "       [ 3175,  3197]])"
            ]
          },
          "execution_count": 61,
          "metadata": {},
          "output_type": "execute_result"
        }
      ],
      "source": [
        "#confusion matrix\n",
        "confusion_matrix(y_test,y_pred_rf)"
      ]
    },
    {
      "cell_type": "code",
      "execution_count": 62,
      "id": "fLyz9BV35KEl",
      "metadata": {
        "colab": {
          "base_uri": "https://localhost:8080/",
          "height": 282
        },
        "id": "fLyz9BV35KEl",
        "outputId": "c6598c92-d80c-4e01-8b13-1d2794854934"
      },
      "outputs": [
        {
          "data": {
            "text/plain": [
              "<matplotlib.axes._subplots.AxesSubplot at 0x7ff607c32090>"
            ]
          },
          "execution_count": 62,
          "metadata": {},
          "output_type": "execute_result"
        },
        {
          "data": {
            "image/png": "[encoded data removed]",
            "text/plain": [
              "<Figure size 432x288 with 2 Axes>"
            ]
          },
          "metadata": {
            "needs_background": "light"
          },
          "output_type": "display_data"
        }
      ],
      "source": [
        "# Heat map of confusion matrix for Random Forest Regression algorithm\n",
        "sns.heatmap(confusion_matrix(y_test,y_pred_rf))"
      ]
    },
    {
      "cell_type": "code",
      "execution_count": 63,
      "id": "kd9aey675ZZ1",
      "metadata": {
        "id": "kd9aey675ZZ1"
      },
      "outputs": [],
      "source": [
        "import joblib"
      ]
    },
    {
      "cell_type": "code",
      "execution_count": 64,
      "id": "CPNu9VXO75zm",
      "metadata": {
        "colab": {
          "base_uri": "https://localhost:8080/"
        },
        "id": "CPNu9VXO75zm",
        "outputId": "f7ad7c92-79a0-4635-ce22-bb830eea914b"
      },
      "outputs": [
        {
          "data": {
            "text/plain": [
              "['Rainfall prediction']"
            ]
          },
          "execution_count": 64,
          "metadata": {},
          "output_type": "execute_result"
        }
      ],
      "source": [
        "joblib.dump(model2,\"Rainfall prediction\")"
      ]
    },
    {
      "cell_type": "code",
      "execution_count": 65,
      "id": "3uBXtt5s8Ch1",
      "metadata": {
        "id": "3uBXtt5s8Ch1"
      },
      "outputs": [],
      "source": [
        "praveen=joblib.load(\"Rainfall prediction\")"
      ]
    },
    {
      "cell_type": "code",
      "execution_count": 66,
      "id": "PeOZBu-F-fl8",
      "metadata": {
        "colab": {
          "base_uri": "https://localhost:8080/",
          "height": 270
        },
        "id": "PeOZBu-F-fl8",
        "outputId": "becb463d-b53b-4e46-c22c-e5d7c7a10bfc"
      },
      "outputs": [
        {
          "data": {
            "text/html": [
              "\n",
              "  <div id=\"df-db74b3f9-7c89-4c8b-85ed-948b92e2d291\">\n",
              "    <div class=\"colab-df-container\">\n",
              "      <div>\n",
              "<style scoped>\n",
              "    .dataframe tbody tr th:only-of-type {\n",
              "        vertical-align: middle;\n",
              "    }\n",
              "\n",
              "    .dataframe tbody tr th {\n",
              "        vertical-align: top;\n",
              "    }\n",
              "\n",
              "    .dataframe thead th {\n",
              "        text-align: right;\n",
              "    }\n",
              "</style>\n",
              "<table border=\"1\" class=\"dataframe\">\n",
              "  <thead>\n",
              "    <tr style=\"text-align: right;\">\n",
              "      <th></th>\n",
              "      <th>MinTemp</th>\n",
              "      <th>MaxTemp</th>\n",
              "      <th>Rainfall</th>\n",
              "      <th>WindGustSpeed</th>\n",
              "      <th>WindSpeed9am</th>\n",
              "      <th>WindSpeed3pm</th>\n",
              "      <th>Humidity9am</th>\n",
              "      <th>Humidity3pm</th>\n",
              "      <th>Pressure9am</th>\n",
              "      <th>Pressure3pm</th>\n",
              "      <th>Temp9am</th>\n",
              "      <th>Temp3pm</th>\n",
              "      <th>RainToday_No</th>\n",
              "      <th>RainToday_Yes</th>\n",
              "    </tr>\n",
              "  </thead>\n",
              "  <tbody>\n",
              "    <tr>\n",
              "      <th>0</th>\n",
              "      <td>13.4</td>\n",
              "      <td>22.9</td>\n",
              "      <td>0.6</td>\n",
              "      <td>44.0</td>\n",
              "      <td>20.0</td>\n",
              "      <td>24.0</td>\n",
              "      <td>71.0</td>\n",
              "      <td>22.0</td>\n",
              "      <td>1007.7</td>\n",
              "      <td>1007.1</td>\n",
              "      <td>16.9</td>\n",
              "      <td>21.8</td>\n",
              "      <td>1</td>\n",
              "      <td>0</td>\n",
              "    </tr>\n",
              "    <tr>\n",
              "      <th>1</th>\n",
              "      <td>7.4</td>\n",
              "      <td>25.1</td>\n",
              "      <td>0.0</td>\n",
              "      <td>44.0</td>\n",
              "      <td>4.0</td>\n",
              "      <td>22.0</td>\n",
              "      <td>44.0</td>\n",
              "      <td>25.0</td>\n",
              "      <td>1010.6</td>\n",
              "      <td>1007.8</td>\n",
              "      <td>17.2</td>\n",
              "      <td>24.3</td>\n",
              "      <td>1</td>\n",
              "      <td>0</td>\n",
              "    </tr>\n",
              "    <tr>\n",
              "      <th>2</th>\n",
              "      <td>12.9</td>\n",
              "      <td>25.7</td>\n",
              "      <td>0.0</td>\n",
              "      <td>46.0</td>\n",
              "      <td>19.0</td>\n",
              "      <td>26.0</td>\n",
              "      <td>38.0</td>\n",
              "      <td>30.0</td>\n",
              "      <td>1007.6</td>\n",
              "      <td>1008.7</td>\n",
              "      <td>21.0</td>\n",
              "      <td>23.2</td>\n",
              "      <td>1</td>\n",
              "      <td>0</td>\n",
              "    </tr>\n",
              "    <tr>\n",
              "      <th>3</th>\n",
              "      <td>9.2</td>\n",
              "      <td>28.0</td>\n",
              "      <td>0.0</td>\n",
              "      <td>24.0</td>\n",
              "      <td>11.0</td>\n",
              "      <td>9.0</td>\n",
              "      <td>45.0</td>\n",
              "      <td>16.0</td>\n",
              "      <td>1017.6</td>\n",
              "      <td>1012.8</td>\n",
              "      <td>18.1</td>\n",
              "      <td>26.5</td>\n",
              "      <td>1</td>\n",
              "      <td>0</td>\n",
              "    </tr>\n",
              "    <tr>\n",
              "      <th>4</th>\n",
              "      <td>17.5</td>\n",
              "      <td>32.3</td>\n",
              "      <td>1.0</td>\n",
              "      <td>41.0</td>\n",
              "      <td>7.0</td>\n",
              "      <td>20.0</td>\n",
              "      <td>82.0</td>\n",
              "      <td>33.0</td>\n",
              "      <td>1010.8</td>\n",
              "      <td>1006.0</td>\n",
              "      <td>17.8</td>\n",
              "      <td>29.7</td>\n",
              "      <td>1</td>\n",
              "      <td>0</td>\n",
              "    </tr>\n",
              "  </tbody>\n",
              "</table>\n",
              "</div>\n",
              "      <button class=\"colab-df-convert\" onclick=\"convertToInteractive('df-db74b3f9-7c89-4c8b-85ed-948b92e2d291')\"\n",
              "              title=\"Convert this dataframe to an interactive table.\"\n",
              "              style=\"display:none;\">\n",
              "        \n",
              "  <svg xmlns=\"http://www.w3.org/2000/svg\" height=\"24px\"viewBox=\"0 0 24 24\"\n",
              "       width=\"24px\">\n",
              "    <path d=\"M0 0h24v24H0V0z\" fill=\"none\"/>\n",
              "    <path d=\"M18.56 5.44l.94 2.06.94-2.06 2.06-.94-2.06-.94-.94-2.06-.94 2.06-2.06.94zm-11 1L8.5 8.5l.94-2.06 2.06-.94-2.06-.94L8.5 2.5l-.94 2.06-2.06.94zm10 10l.94 2.06.94-2.06 2.06-.94-2.06-.94-.94-2.06-.94 2.06-2.06.94z\"/><path d=\"M17.41 7.96l-1.37-1.37c-.4-.4-.92-.59-1.43-.59-.52 0-1.04.2-1.43.59L10.3 9.45l-7.72 7.72c-.78.78-.78 2.05 0 2.83L4 21.41c.39.39.9.59 1.41.59.51 0 1.02-.2 1.41-.59l7.78-7.78 2.81-2.81c.8-.78.8-2.07 0-2.86zM5.41 20L4 18.59l7.72-7.72 1.47 1.35L5.41 20z\"/>\n",
              "  </svg>\n",
              "      </button>\n",
              "      \n",
              "  <style>\n",
              "    .colab-df-container {\n",
              "      display:flex;\n",
              "      flex-wrap:wrap;\n",
              "      gap: 12px;\n",
              "    }\n",
              "\n",
              "    .colab-df-convert {\n",
              "      background-color: #E8F0FE;\n",
              "      border: none;\n",
              "      border-radius: 50%;\n",
              "      cursor: pointer;\n",
              "      display: none;\n",
              "      fill: #1967D2;\n",
              "      height: 32px;\n",
              "      padding: 0 0 0 0;\n",
              "      width: 32px;\n",
              "    }\n",
              "\n",
              "    .colab-df-convert:hover {\n",
              "      background-color: #E2EBFA;\n",
              "      box-shadow: 0px 1px 2px rgba(60, 64, 67, 0.3), 0px 1px 3px 1px rgba(60, 64, 67, 0.15);\n",
              "      fill: #174EA6;\n",
              "    }\n",
              "\n",
              "    [theme=dark] .colab-df-convert {\n",
              "      background-color: #3B4455;\n",
              "      fill: #D2E3FC;\n",
              "    }\n",
              "\n",
              "    [theme=dark] .colab-df-convert:hover {\n",
              "      background-color: #434B5C;\n",
              "      box-shadow: 0px 1px 3px 1px rgba(0, 0, 0, 0.15);\n",
              "      filter: drop-shadow(0px 1px 2px rgba(0, 0, 0, 0.3));\n",
              "      fill: #FFFFFF;\n",
              "    }\n",
              "  </style>\n",
              "\n",
              "      <script>\n",
              "        const buttonEl =\n",
              "          document.querySelector('#df-db74b3f9-7c89-4c8b-85ed-948b92e2d291 button.colab-df-convert');\n",
              "        buttonEl.style.display =\n",
              "          google.colab.kernel.accessAllowed ? 'block' : 'none';\n",
              "\n",
              "        async function convertToInteractive(key) {\n",
              "          const element = document.querySelector('#df-db74b3f9-7c89-4c8b-85ed-948b92e2d291');\n",
              "          const dataTable =\n",
              "            await google.colab.kernel.invokeFunction('convertToInteractive',\n",
              "                                                     [key], {});\n",
              "          if (!dataTable) return;\n",
              "\n",
              "          const docLinkHtml = 'Like what you see? Visit the ' +\n",
              "            '<a target=\"_blank\" href=https://colab.research.google.com/notebooks/data_table.ipynb>data table notebook</a>'\n",
              "            + ' to learn more about interactive tables.';\n",
              "          element.innerHTML = '';\n",
              "          dataTable['output_type'] = 'display_data';\n",
              "          await google.colab.output.renderOutput(dataTable, element);\n",
              "          const docLink = document.createElement('div');\n",
              "          docLink.innerHTML = docLinkHtml;\n",
              "          element.appendChild(docLink);\n",
              "        }\n",
              "      </script>\n",
              "    </div>\n",
              "  </div>\n",
              "  "
            ],
            "text/plain": [
              "   MinTemp  MaxTemp  Rainfall  WindGustSpeed  WindSpeed9am  WindSpeed3pm  \\\n",
              "0     13.4     22.9       0.6           44.0          20.0          24.0   \n",
              "1      7.4     25.1       0.0           44.0           4.0          22.0   \n",
              "2     12.9     25.7       0.0           46.0          19.0          26.0   \n",
              "3      9.2     28.0       0.0           24.0          11.0           9.0   \n",
              "4     17.5     32.3       1.0           41.0           7.0          20.0   \n",
              "\n",
              "   Humidity9am  Humidity3pm  Pressure9am  Pressure3pm  Temp9am  Temp3pm  \\\n",
              "0         71.0         22.0       1007.7       1007.1     16.9     21.8   \n",
              "1         44.0         25.0       1010.6       1007.8     17.2     24.3   \n",
              "2         38.0         30.0       1007.6       1008.7     21.0     23.2   \n",
              "3         45.0         16.0       1017.6       1012.8     18.1     26.5   \n",
              "4         82.0         33.0       1010.8       1006.0     17.8     29.7   \n",
              "\n",
              "   RainToday_No  RainToday_Yes  \n",
              "0             1              0  \n",
              "1             1              0  \n",
              "2             1              0  \n",
              "3             1              0  \n",
              "4             1              0  "
            ]
          },
          "execution_count": 66,
          "metadata": {},
          "output_type": "execute_result"
        }
      ],
      "source": [
        "x_p.head()"
      ]
    },
    {
      "cell_type": "code",
      "execution_count": 67,
      "id": "FktueSG0_HE2",
      "metadata": {
        "colab": {
          "base_uri": "https://localhost:8080/"
        },
        "id": "FktueSG0_HE2",
        "outputId": "a1e0b896-b497-4057-f935-2b7d6da07220"
      },
      "outputs": [
        {
          "name": "stderr",
          "output_type": "stream",
          "text": [
            "/usr/local/lib/python3.7/dist-packages/sklearn/base.py:451: UserWarning: X does not have valid feature names, but RandomForestClassifier was fitted with feature names\n",
            "  \"X does not have valid feature names, but\"\n"
          ]
        },
        {
          "data": {
            "text/plain": [
              "array([1])"
            ]
          },
          "execution_count": 67,
          "metadata": {},
          "output_type": "execute_result"
        }
      ],
      "source": [
        "praveen.predict([[13.4,22.9,0.6,44.0,20.0,24.0,71.0,22.0,1007.7,1007.1,16.9,21.8,1,0]])"
      ]
    }
  ],
  "metadata": {
    "colab": {
      "provenance": []
    },
    "kernelspec": {
      "display_name": "Python 3 (ipykernel)",
      "language": "python",
      "name": "python3"
    },
    "language_info": {
      "codemirror_mode": {
        "name": "ipython",
        "version": 3
      },
      "file_extension": ".py",
      "mimetype": "text/x-python",
      "name": "python",
      "nbconvert_exporter": "python",
      "pygments_lexer": "ipython3",
      "version": "3.9.7"
    }
  },
  "nbformat": 4,
  "nbformat_minor": 5
}
